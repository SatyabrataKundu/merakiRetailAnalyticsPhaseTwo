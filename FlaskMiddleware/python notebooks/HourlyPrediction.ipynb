{
 "cells": [
  {
   "cell_type": "code",
   "execution_count": 51,
   "metadata": {},
   "outputs": [
    {
     "name": "stdout",
     "output_type": "stream",
     "text": [
      "23435\n",
      "23445\n",
      "1: 247.495214\n",
      "2: 119.612602\n",
      "3: 127.169643\n",
      "4: 171.028719\n",
      "5: 18.301320\n",
      "6: 42.781402\n",
      "7: 103.474482\n",
      "8: 86.395413\n",
      "9: 122.401368\n",
      "10: 121.180576\n",
      "11: 121.149095\n"
     ]
    }
   ],
   "source": [
    "from pandas import *\n",
    "import matplotlib.pyplot as plt \n",
    "from statsmodels.tsa.arima_model import ARIMA\n",
    "import numpy\n",
    "import pandas as pd\n",
    "\n",
    "# create a differenced series\n",
    "def difference(dataset, interval=1):\n",
    "\tdiff = list()\n",
    "\tfor i in range(interval, len(dataset)):\n",
    "\t\tvalue = dataset[i] - dataset[i - interval]\n",
    "\t\tdiff.append(value)\n",
    "\treturn numpy.array(diff)\n",
    "\n",
    "# invert differenced value\n",
    "def inverse_difference(history, yhat, interval=1):\n",
    "\treturn yhat + history[-interval]\n",
    "\n",
    "# load dataset\n",
    "dateparse = lambda dates: datetime.strptime(dates, '%Y-%m-%d %H:%M:%S')\n",
    "series = pd.read_csv('date_hourly.csv', index_col='date_hour', parse_dates=['date_hour'], date_parser=dateparse)\n",
    "# seasonal difference\n",
    "X = series.values\n",
    "#print(X)\n",
    "days_in_year = 266\n",
    "differenced = difference(X, days_in_year)\n",
    "#print((differenced))\n",
    "# fit model\n",
    "model = ARIMA(differenced, order=(5,2,1))\n",
    "model_fit = model.fit(disp=0)\n",
    "# multi-step out-of-sample forecast\n",
    "start_index = len(differenced)\n",
    "end_index = start_index + 10\n",
    "print(start_index)\n",
    "print(end_index)\n",
    "\n",
    "# start_index =  '25-09-2018'\n",
    "# end_index =  '25-10-2018'\n",
    "# print(start_index)\n",
    "forecast = model_fit.predict(start=start_index, end=end_index)\n",
    "# print(forecast)\n",
    "# invert the differenced forecast to something usable\n",
    "history = [x for x in X]\n",
    "day = 1\n",
    "for yhat in forecast:\n",
    "\tinverted = inverse_difference(history, yhat, days_in_year)\n",
    "\tprint('%d: %f' % (day, inverted))\n",
    "\thistory.append(inverted)\n",
    "\tday += 1"
   ]
  },
  {
   "cell_type": "code",
   "execution_count": null,
   "metadata": {},
   "outputs": [],
   "source": [
    "print(len(history))\n",
    "\n",
    "plt.plot(X[200:300], color='blue')\n",
    "plt.plot(history[200:250], color='red')\n"
   ]
  }
 ],
 "metadata": {
  "kernelspec": {
   "display_name": "Python 3",
   "language": "python",
   "name": "python3"
  },
  "language_info": {
   "codemirror_mode": {
    "name": "ipython",
    "version": 3
   },
   "file_extension": ".py",
   "mimetype": "text/x-python",
   "name": "python",
   "nbconvert_exporter": "python",
   "pygments_lexer": "ipython3",
   "version": "3.7.1"
  }
 },
 "nbformat": 4,
 "nbformat_minor": 2
}
